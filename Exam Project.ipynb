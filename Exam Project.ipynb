{
 "cells": [
  {
   "cell_type": "code",
   "execution_count": 1,
   "metadata": {},
   "outputs": [],
   "source": [
    "# Invoke a command enabling plotting in the notebook\n",
    "%matplotlib inline"
   ]
  },
  {
   "cell_type": "code",
   "execution_count": 2,
   "metadata": {},
   "outputs": [],
   "source": [
    "# Import the libraries and specific package features which are going to be used in the analysis\n",
    "import numpy as np\n",
    "import pandas as pd\n",
    "import matplotlib.pyplot as plt\n",
    "import seaborn as sns\n",
    "\n",
    "from nose.tools import *\n",
    "\n",
    "# Import random seed for results reproducibility\n",
    "np.random.seed(24680)\n",
    "\n",
    "# Import sklearn features for modelling\n",
    "from sklearn import preprocessing\n",
    "from sklearn.model_selection import train_test_split\n",
    "from sklearn.model_selection import StratifiedKFold\n",
    "from scipy.stats.stats import pearsonr\n",
    "\n",
    "from sklearn.linear_model import LogisticRegression\n",
    "from sklearn.model_selection import GridSearchCV\n",
    "from sklearn.tree import DecisionTreeClassifier \n",
    "from sklearn.metrics import f1_score\n",
    "from sklearn.ensemble import RandomForestClassifier\n",
    "from sklearn.svm import LinearSVC\n",
    "from sklearn.svm import SVC\n",
    "from sklearn.decomposition import PCA\n",
    "from sklearn.metrics import classification_report"
   ]
  },
  {
   "cell_type": "markdown",
   "metadata": {},
   "source": [
    "# Softuni - Machine Learning - Exam Project - Velko Kamenov\n",
    "\n",
    "### email - velko.kamenov@abv.bg\n",
    "\n",
    "## Predicting Goal/Goal match outcome in the English Premier League using data between 2000-2017 and comparing different machine learning classification models"
   ]
  },
  {
   "cell_type": "markdown",
   "metadata": {},
   "source": [
    "### 1. Abstract - Problem definition, scope of the analysis and data used\n",
    "\n",
    "Forecasting football match outcomes has proven to be a difficult task both because of data availability limitations as well as a  lack of easily trackable structure in the scarse quality data that can be found freely available on the matter. \n",
    "\n",
    "The aim of this project is to present an approach for forecasting goal/goal match outcome for the English Premier League football games using data from the last 18 seasons of the competition as well as a handful of machine learning models such as Logistic Regression with and without regularization and combined with PCA, Random Forest and Linear and Gaussian Support Vector Machines. \n",
    "\n",
    "__Problem definition__: Binary Classification problem. Goal/Goal - Yes - if both teams in the match score at least one goal each during the course of a given game. Goal/Goal - No - if at least one of the teams in the match doesn't score a goal. \n",
    "\n",
    "__Data used__: Freely available statistical data about each game from the last 18 football seasons downloaded in excel csv format from [the following website](http://www.football-data.co.uk/englandm.php). The data is manually downloaded in the csv format in which it is found available and later preprocessed in R so that it is structured in a way enabling machine learning modelling. The statistical information in the files consists of features such as average goals scored by the two sides in a game for the season up until the start of the game, average shots on target per game for the season, average corner kicks per game for the season, bookmaker odds and others. The data was preprocessed so as to produce different predictive features with aggregated information for each team's average performance during the season before the start of a given match. The full set of characteristics derived in this way is available in the text file `Goal Goal Data Variables codebook.txt` in the `data` folder of the project. There can be found detailed explanation of each characteristic in the initial dataset. \n",
    "\n",
    "__Intrinsic error in the data__: Given the fact that the average betting odds for Goal/Goal yes/no match outcome is around 1.75 we can calculate that in order to beat the market i.e. to be able to forecast better than the combined opinion of the football betting market, one has to obtain a model with at least 60% accuracy for marginal profits. Thus we can assume that the given the fact that the market also posses this freely available information and also uses it for analysis, the intrinsic error of the data for the case presented is around 40% and the target result of this analysis is to get a model with 60% forecasting accuracy.\n",
    "\n",
    "__Results from modeling__: After training and testing the forecasting performance of 6 competing models on test data I can conclude that the data collected can modelled so as to forecast better than random, but is not enough to reach the 60% accuracy threshold. More relevant data is needed in order to get closer to this benchmark. Since all models tested give similar results, it is best to choose the simplest one with the best performance - Logistic Regression with regularization. The result of this model is 54% accuracy on the test data. \n"
   ]
  },
  {
   "cell_type": "markdown",
   "metadata": {},
   "source": [
    "### 2. Read and examine data stats\n",
    "\n",
    "As a first step of the analysis we read the data and look at its shape and values - 5100 observations with 15 predictor features and one target variable"
   ]
  },
  {
   "cell_type": "code",
   "execution_count": 3,
   "metadata": {},
   "outputs": [
    {
     "name": "stdout",
     "output_type": "stream",
     "text": [
      "(5100, 16)\n"
     ]
    },
    {
     "data": {
      "text/html": [
       "<div>\n",
       "<style scoped>\n",
       "    .dataframe tbody tr th:only-of-type {\n",
       "        vertical-align: middle;\n",
       "    }\n",
       "\n",
       "    .dataframe tbody tr th {\n",
       "        vertical-align: top;\n",
       "    }\n",
       "\n",
       "    .dataframe thead th {\n",
       "        text-align: right;\n",
       "    }\n",
       "</style>\n",
       "<table border=\"1\" class=\"dataframe\">\n",
       "  <thead>\n",
       "    <tr style=\"text-align: right;\">\n",
       "      <th></th>\n",
       "      <th>GoalGoal</th>\n",
       "      <th>B365H</th>\n",
       "      <th>B365D</th>\n",
       "      <th>B365A</th>\n",
       "      <th>AverageHTSShifted</th>\n",
       "      <th>AverageATSShifted</th>\n",
       "      <th>AverageHomeTeamSavesShifted</th>\n",
       "      <th>AverageAwayTeamSavesShifted</th>\n",
       "      <th>AverageHCShifted</th>\n",
       "      <th>AverageACShifted</th>\n",
       "      <th>AverageHGShifted</th>\n",
       "      <th>AverageAGShifted</th>\n",
       "      <th>PercentageMGSHShifted</th>\n",
       "      <th>PercentageMGSAShifted</th>\n",
       "      <th>PercentageMGCHShifted</th>\n",
       "      <th>PercentageMGCAShifted</th>\n",
       "    </tr>\n",
       "  </thead>\n",
       "  <tbody>\n",
       "    <tr>\n",
       "      <th>count</th>\n",
       "      <td>5100.000000</td>\n",
       "      <td>5094.000000</td>\n",
       "      <td>5094.000000</td>\n",
       "      <td>5094.000000</td>\n",
       "      <td>5100.000000</td>\n",
       "      <td>5100.000000</td>\n",
       "      <td>5100.000000</td>\n",
       "      <td>5100.000000</td>\n",
       "      <td>5100.000000</td>\n",
       "      <td>5100.000000</td>\n",
       "      <td>5100.000000</td>\n",
       "      <td>5100.000000</td>\n",
       "      <td>5100.000000</td>\n",
       "      <td>5100.000000</td>\n",
       "      <td>5100.000000</td>\n",
       "      <td>5100.000000</td>\n",
       "    </tr>\n",
       "    <tr>\n",
       "      <th>mean</th>\n",
       "      <td>0.500784</td>\n",
       "      <td>2.660684</td>\n",
       "      <td>3.842344</td>\n",
       "      <td>4.741698</td>\n",
       "      <td>6.515009</td>\n",
       "      <td>5.071738</td>\n",
       "      <td>3.886536</td>\n",
       "      <td>5.024792</td>\n",
       "      <td>6.243825</td>\n",
       "      <td>4.898824</td>\n",
       "      <td>1.530990</td>\n",
       "      <td>1.164611</td>\n",
       "      <td>0.777133</td>\n",
       "      <td>0.669895</td>\n",
       "      <td>0.666175</td>\n",
       "      <td>0.781089</td>\n",
       "    </tr>\n",
       "    <tr>\n",
       "      <th>std</th>\n",
       "      <td>0.500048</td>\n",
       "      <td>1.740452</td>\n",
       "      <td>1.006842</td>\n",
       "      <td>3.748453</td>\n",
       "      <td>2.198762</td>\n",
       "      <td>1.643656</td>\n",
       "      <td>1.452777</td>\n",
       "      <td>1.829051</td>\n",
       "      <td>1.424478</td>\n",
       "      <td>1.140127</td>\n",
       "      <td>0.581516</td>\n",
       "      <td>0.497391</td>\n",
       "      <td>0.157920</td>\n",
       "      <td>0.185444</td>\n",
       "      <td>0.179451</td>\n",
       "      <td>0.161976</td>\n",
       "    </tr>\n",
       "    <tr>\n",
       "      <th>min</th>\n",
       "      <td>0.000000</td>\n",
       "      <td>1.080000</td>\n",
       "      <td>2.500000</td>\n",
       "      <td>1.160000</td>\n",
       "      <td>1.400000</td>\n",
       "      <td>1.000000</td>\n",
       "      <td>0.750000</td>\n",
       "      <td>0.750000</td>\n",
       "      <td>1.750000</td>\n",
       "      <td>0.750000</td>\n",
       "      <td>0.000000</td>\n",
       "      <td>0.000000</td>\n",
       "      <td>0.000000</td>\n",
       "      <td>0.000000</td>\n",
       "      <td>0.000000</td>\n",
       "      <td>0.000000</td>\n",
       "    </tr>\n",
       "    <tr>\n",
       "      <th>25%</th>\n",
       "      <td>0.000000</td>\n",
       "      <td>1.660000</td>\n",
       "      <td>3.250000</td>\n",
       "      <td>2.500000</td>\n",
       "      <td>4.941176</td>\n",
       "      <td>3.900000</td>\n",
       "      <td>2.777778</td>\n",
       "      <td>3.562500</td>\n",
       "      <td>5.250000</td>\n",
       "      <td>4.125000</td>\n",
       "      <td>1.142857</td>\n",
       "      <td>0.800000</td>\n",
       "      <td>0.666667</td>\n",
       "      <td>0.555556</td>\n",
       "      <td>0.562500</td>\n",
       "      <td>0.687500</td>\n",
       "    </tr>\n",
       "    <tr>\n",
       "      <th>50%</th>\n",
       "      <td>1.000000</td>\n",
       "      <td>2.100000</td>\n",
       "      <td>3.500000</td>\n",
       "      <td>3.500000</td>\n",
       "      <td>6.444444</td>\n",
       "      <td>4.882353</td>\n",
       "      <td>3.666667</td>\n",
       "      <td>5.000000</td>\n",
       "      <td>6.125000</td>\n",
       "      <td>4.812500</td>\n",
       "      <td>1.428571</td>\n",
       "      <td>1.100000</td>\n",
       "      <td>0.777778</td>\n",
       "      <td>0.666667</td>\n",
       "      <td>0.666667</td>\n",
       "      <td>0.800000</td>\n",
       "    </tr>\n",
       "    <tr>\n",
       "      <th>75%</th>\n",
       "      <td>1.000000</td>\n",
       "      <td>2.800000</td>\n",
       "      <td>4.000000</td>\n",
       "      <td>5.500000</td>\n",
       "      <td>7.800000</td>\n",
       "      <td>6.000000</td>\n",
       "      <td>4.900000</td>\n",
       "      <td>6.338235</td>\n",
       "      <td>7.055556</td>\n",
       "      <td>5.600000</td>\n",
       "      <td>1.800000</td>\n",
       "      <td>1.444444</td>\n",
       "      <td>0.875000</td>\n",
       "      <td>0.800000</td>\n",
       "      <td>0.785714</td>\n",
       "      <td>0.888889</td>\n",
       "    </tr>\n",
       "    <tr>\n",
       "      <th>max</th>\n",
       "      <td>1.000000</td>\n",
       "      <td>17.000000</td>\n",
       "      <td>13.000000</td>\n",
       "      <td>34.000000</td>\n",
       "      <td>19.000000</td>\n",
       "      <td>14.333333</td>\n",
       "      <td>11.600000</td>\n",
       "      <td>11.833333</td>\n",
       "      <td>18.000000</td>\n",
       "      <td>12.666667</td>\n",
       "      <td>5.666667</td>\n",
       "      <td>4.000000</td>\n",
       "      <td>1.500000</td>\n",
       "      <td>1.333333</td>\n",
       "      <td>1.333333</td>\n",
       "      <td>1.333333</td>\n",
       "    </tr>\n",
       "  </tbody>\n",
       "</table>\n",
       "</div>"
      ],
      "text/plain": [
       "          GoalGoal        B365H        B365D        B365A  AverageHTSShifted  \\\n",
       "count  5100.000000  5094.000000  5094.000000  5094.000000        5100.000000   \n",
       "mean      0.500784     2.660684     3.842344     4.741698           6.515009   \n",
       "std       0.500048     1.740452     1.006842     3.748453           2.198762   \n",
       "min       0.000000     1.080000     2.500000     1.160000           1.400000   \n",
       "25%       0.000000     1.660000     3.250000     2.500000           4.941176   \n",
       "50%       1.000000     2.100000     3.500000     3.500000           6.444444   \n",
       "75%       1.000000     2.800000     4.000000     5.500000           7.800000   \n",
       "max       1.000000    17.000000    13.000000    34.000000          19.000000   \n",
       "\n",
       "       AverageATSShifted  AverageHomeTeamSavesShifted  \\\n",
       "count        5100.000000                  5100.000000   \n",
       "mean            5.071738                     3.886536   \n",
       "std             1.643656                     1.452777   \n",
       "min             1.000000                     0.750000   \n",
       "25%             3.900000                     2.777778   \n",
       "50%             4.882353                     3.666667   \n",
       "75%             6.000000                     4.900000   \n",
       "max            14.333333                    11.600000   \n",
       "\n",
       "       AverageAwayTeamSavesShifted  AverageHCShifted  AverageACShifted  \\\n",
       "count                  5100.000000       5100.000000       5100.000000   \n",
       "mean                      5.024792          6.243825          4.898824   \n",
       "std                       1.829051          1.424478          1.140127   \n",
       "min                       0.750000          1.750000          0.750000   \n",
       "25%                       3.562500          5.250000          4.125000   \n",
       "50%                       5.000000          6.125000          4.812500   \n",
       "75%                       6.338235          7.055556          5.600000   \n",
       "max                      11.833333         18.000000         12.666667   \n",
       "\n",
       "       AverageHGShifted  AverageAGShifted  PercentageMGSHShifted  \\\n",
       "count       5100.000000       5100.000000            5100.000000   \n",
       "mean           1.530990          1.164611               0.777133   \n",
       "std            0.581516          0.497391               0.157920   \n",
       "min            0.000000          0.000000               0.000000   \n",
       "25%            1.142857          0.800000               0.666667   \n",
       "50%            1.428571          1.100000               0.777778   \n",
       "75%            1.800000          1.444444               0.875000   \n",
       "max            5.666667          4.000000               1.500000   \n",
       "\n",
       "       PercentageMGSAShifted  PercentageMGCHShifted  PercentageMGCAShifted  \n",
       "count            5100.000000            5100.000000            5100.000000  \n",
       "mean                0.669895               0.666175               0.781089  \n",
       "std                 0.185444               0.179451               0.161976  \n",
       "min                 0.000000               0.000000               0.000000  \n",
       "25%                 0.555556               0.562500               0.687500  \n",
       "50%                 0.666667               0.666667               0.800000  \n",
       "75%                 0.800000               0.785714               0.888889  \n",
       "max                 1.333333               1.333333               1.333333  "
      ]
     },
     "execution_count": 3,
     "metadata": {},
     "output_type": "execute_result"
    }
   ],
   "source": [
    "# Read data and get some descriptive statistics\n",
    "football_data = pd.read_csv(\"data/GoalGoalData.csv\",sep=\",\")\n",
    "\n",
    "# Check number of observations and features in the dataset\n",
    "print(football_data.shape)\n",
    "\n",
    "# Look at summary statistics of the data\n",
    "descriptiveStats = pd.DataFrame(football_data.describe())\n",
    "\n",
    "descriptiveStats"
   ]
  },
  {
   "cell_type": "markdown",
   "metadata": {},
   "source": [
    "#### Check some averages"
   ]
  },
  {
   "cell_type": "code",
   "execution_count": 4,
   "metadata": {},
   "outputs": [
    {
     "data": {
      "text/plain": [
       "GoalGoal                       0.500784\n",
       "B365H                          2.660684\n",
       "B365D                          3.842344\n",
       "B365A                          4.741698\n",
       "AverageHTSShifted              6.515009\n",
       "AverageATSShifted              5.071738\n",
       "AverageHomeTeamSavesShifted    3.886536\n",
       "AverageAwayTeamSavesShifted    5.024792\n",
       "AverageHCShifted               6.243825\n",
       "AverageACShifted               4.898824\n",
       "AverageHGShifted               1.530990\n",
       "AverageAGShifted               1.164611\n",
       "PercentageMGSHShifted          0.777133\n",
       "PercentageMGSAShifted          0.669895\n",
       "PercentageMGCHShifted          0.666175\n",
       "PercentageMGCAShifted          0.781089\n",
       "Name: mean, dtype: float64"
      ]
     },
     "execution_count": 4,
     "metadata": {},
     "output_type": "execute_result"
    }
   ],
   "source": [
    "# Show the average values for the target and predictor variables\n",
    "descriptiveStats.iloc[1]"
   ]
  },
  {
   "cell_type": "markdown",
   "metadata": {},
   "source": [
    "By looking at the mean values for the target and predictor variables we find some intresting facts for the matches in the English Premier League during the last 18 seasons. \n",
    "\n",
    "Generally as we can expect home teams more often dominate in the matches which is proven by the fact that on average they manage to produce 1.5 more shots on target per match, score 0.37 more goals per match and score at least one goal in 10% more of the matches compared to away teams. \n",
    "\n",
    "This means that whether a match ends with both teams scoring a goal probably depends a lot on the ability of the away team to score a goal, since home teams score goals in the game more often than not. "
   ]
  },
  {
   "cell_type": "markdown",
   "metadata": {},
   "source": [
    "### Remove rows with missing values\n",
    "As we see from the table above there are three feature columns with 6 missing values - B365H, B365D and B365A. As the number of missing values is low and many algorithms work better with no missing values in the features we shall remove the rows with missing information from them. "
   ]
  },
  {
   "cell_type": "code",
   "execution_count": 5,
   "metadata": {},
   "outputs": [
    {
     "name": "stdout",
     "output_type": "stream",
     "text": [
      "(5094, 16)\n"
     ]
    },
    {
     "data": {
      "text/html": [
       "<div>\n",
       "<style scoped>\n",
       "    .dataframe tbody tr th:only-of-type {\n",
       "        vertical-align: middle;\n",
       "    }\n",
       "\n",
       "    .dataframe tbody tr th {\n",
       "        vertical-align: top;\n",
       "    }\n",
       "\n",
       "    .dataframe thead th {\n",
       "        text-align: right;\n",
       "    }\n",
       "</style>\n",
       "<table border=\"1\" class=\"dataframe\">\n",
       "  <thead>\n",
       "    <tr style=\"text-align: right;\">\n",
       "      <th></th>\n",
       "      <th>GoalGoal</th>\n",
       "      <th>B365H</th>\n",
       "      <th>B365D</th>\n",
       "      <th>B365A</th>\n",
       "      <th>AverageHTSShifted</th>\n",
       "      <th>AverageATSShifted</th>\n",
       "      <th>AverageHomeTeamSavesShifted</th>\n",
       "      <th>AverageAwayTeamSavesShifted</th>\n",
       "      <th>AverageHCShifted</th>\n",
       "      <th>AverageACShifted</th>\n",
       "      <th>AverageHGShifted</th>\n",
       "      <th>AverageAGShifted</th>\n",
       "      <th>PercentageMGSHShifted</th>\n",
       "      <th>PercentageMGSAShifted</th>\n",
       "      <th>PercentageMGCHShifted</th>\n",
       "      <th>PercentageMGCAShifted</th>\n",
       "    </tr>\n",
       "  </thead>\n",
       "  <tbody>\n",
       "    <tr>\n",
       "      <th>count</th>\n",
       "      <td>5094.000000</td>\n",
       "      <td>5094.000000</td>\n",
       "      <td>5094.000000</td>\n",
       "      <td>5094.000000</td>\n",
       "      <td>5094.000000</td>\n",
       "      <td>5094.000000</td>\n",
       "      <td>5094.000000</td>\n",
       "      <td>5094.000000</td>\n",
       "      <td>5094.000000</td>\n",
       "      <td>5094.000000</td>\n",
       "      <td>5094.000000</td>\n",
       "      <td>5094.000000</td>\n",
       "      <td>5094.000000</td>\n",
       "      <td>5094.000000</td>\n",
       "      <td>5094.000000</td>\n",
       "      <td>5094.000000</td>\n",
       "    </tr>\n",
       "    <tr>\n",
       "      <th>mean</th>\n",
       "      <td>0.500589</td>\n",
       "      <td>2.660684</td>\n",
       "      <td>3.842344</td>\n",
       "      <td>4.741698</td>\n",
       "      <td>6.513458</td>\n",
       "      <td>5.072918</td>\n",
       "      <td>3.887731</td>\n",
       "      <td>5.026162</td>\n",
       "      <td>6.240222</td>\n",
       "      <td>4.898323</td>\n",
       "      <td>1.530240</td>\n",
       "      <td>1.164543</td>\n",
       "      <td>0.776923</td>\n",
       "      <td>0.669986</td>\n",
       "      <td>0.666150</td>\n",
       "      <td>0.781011</td>\n",
       "    </tr>\n",
       "    <tr>\n",
       "      <th>std</th>\n",
       "      <td>0.500049</td>\n",
       "      <td>1.740452</td>\n",
       "      <td>1.006842</td>\n",
       "      <td>3.748453</td>\n",
       "      <td>2.197006</td>\n",
       "      <td>1.644121</td>\n",
       "      <td>1.452862</td>\n",
       "      <td>1.829484</td>\n",
       "      <td>1.414980</td>\n",
       "      <td>1.137705</td>\n",
       "      <td>0.581019</td>\n",
       "      <td>0.497165</td>\n",
       "      <td>0.157526</td>\n",
       "      <td>0.185494</td>\n",
       "      <td>0.179383</td>\n",
       "      <td>0.162010</td>\n",
       "    </tr>\n",
       "    <tr>\n",
       "      <th>min</th>\n",
       "      <td>0.000000</td>\n",
       "      <td>1.080000</td>\n",
       "      <td>2.500000</td>\n",
       "      <td>1.160000</td>\n",
       "      <td>1.400000</td>\n",
       "      <td>1.000000</td>\n",
       "      <td>0.750000</td>\n",
       "      <td>0.750000</td>\n",
       "      <td>1.750000</td>\n",
       "      <td>0.750000</td>\n",
       "      <td>0.000000</td>\n",
       "      <td>0.000000</td>\n",
       "      <td>0.000000</td>\n",
       "      <td>0.000000</td>\n",
       "      <td>0.000000</td>\n",
       "      <td>0.000000</td>\n",
       "    </tr>\n",
       "    <tr>\n",
       "      <th>25%</th>\n",
       "      <td>0.000000</td>\n",
       "      <td>1.660000</td>\n",
       "      <td>3.250000</td>\n",
       "      <td>2.500000</td>\n",
       "      <td>4.941176</td>\n",
       "      <td>3.900000</td>\n",
       "      <td>2.777778</td>\n",
       "      <td>3.571429</td>\n",
       "      <td>5.250000</td>\n",
       "      <td>4.125000</td>\n",
       "      <td>1.142857</td>\n",
       "      <td>0.800000</td>\n",
       "      <td>0.666667</td>\n",
       "      <td>0.555556</td>\n",
       "      <td>0.562500</td>\n",
       "      <td>0.687500</td>\n",
       "    </tr>\n",
       "    <tr>\n",
       "      <th>50%</th>\n",
       "      <td>1.000000</td>\n",
       "      <td>2.100000</td>\n",
       "      <td>3.500000</td>\n",
       "      <td>3.500000</td>\n",
       "      <td>6.444444</td>\n",
       "      <td>4.882353</td>\n",
       "      <td>3.666667</td>\n",
       "      <td>5.000000</td>\n",
       "      <td>6.125000</td>\n",
       "      <td>4.812500</td>\n",
       "      <td>1.428571</td>\n",
       "      <td>1.100000</td>\n",
       "      <td>0.777778</td>\n",
       "      <td>0.666667</td>\n",
       "      <td>0.666667</td>\n",
       "      <td>0.800000</td>\n",
       "    </tr>\n",
       "    <tr>\n",
       "      <th>75%</th>\n",
       "      <td>1.000000</td>\n",
       "      <td>2.800000</td>\n",
       "      <td>4.000000</td>\n",
       "      <td>5.500000</td>\n",
       "      <td>7.800000</td>\n",
       "      <td>6.000000</td>\n",
       "      <td>4.900000</td>\n",
       "      <td>6.352941</td>\n",
       "      <td>7.000000</td>\n",
       "      <td>5.600000</td>\n",
       "      <td>1.800000</td>\n",
       "      <td>1.444444</td>\n",
       "      <td>0.875000</td>\n",
       "      <td>0.800000</td>\n",
       "      <td>0.785714</td>\n",
       "      <td>0.888889</td>\n",
       "    </tr>\n",
       "    <tr>\n",
       "      <th>max</th>\n",
       "      <td>1.000000</td>\n",
       "      <td>17.000000</td>\n",
       "      <td>13.000000</td>\n",
       "      <td>34.000000</td>\n",
       "      <td>19.000000</td>\n",
       "      <td>14.333333</td>\n",
       "      <td>11.600000</td>\n",
       "      <td>11.833333</td>\n",
       "      <td>13.666667</td>\n",
       "      <td>12.666667</td>\n",
       "      <td>5.666667</td>\n",
       "      <td>4.000000</td>\n",
       "      <td>1.333333</td>\n",
       "      <td>1.333333</td>\n",
       "      <td>1.333333</td>\n",
       "      <td>1.333333</td>\n",
       "    </tr>\n",
       "  </tbody>\n",
       "</table>\n",
       "</div>"
      ],
      "text/plain": [
       "          GoalGoal        B365H        B365D        B365A  AverageHTSShifted  \\\n",
       "count  5094.000000  5094.000000  5094.000000  5094.000000        5094.000000   \n",
       "mean      0.500589     2.660684     3.842344     4.741698           6.513458   \n",
       "std       0.500049     1.740452     1.006842     3.748453           2.197006   \n",
       "min       0.000000     1.080000     2.500000     1.160000           1.400000   \n",
       "25%       0.000000     1.660000     3.250000     2.500000           4.941176   \n",
       "50%       1.000000     2.100000     3.500000     3.500000           6.444444   \n",
       "75%       1.000000     2.800000     4.000000     5.500000           7.800000   \n",
       "max       1.000000    17.000000    13.000000    34.000000          19.000000   \n",
       "\n",
       "       AverageATSShifted  AverageHomeTeamSavesShifted  \\\n",
       "count        5094.000000                  5094.000000   \n",
       "mean            5.072918                     3.887731   \n",
       "std             1.644121                     1.452862   \n",
       "min             1.000000                     0.750000   \n",
       "25%             3.900000                     2.777778   \n",
       "50%             4.882353                     3.666667   \n",
       "75%             6.000000                     4.900000   \n",
       "max            14.333333                    11.600000   \n",
       "\n",
       "       AverageAwayTeamSavesShifted  AverageHCShifted  AverageACShifted  \\\n",
       "count                  5094.000000       5094.000000       5094.000000   \n",
       "mean                      5.026162          6.240222          4.898323   \n",
       "std                       1.829484          1.414980          1.137705   \n",
       "min                       0.750000          1.750000          0.750000   \n",
       "25%                       3.571429          5.250000          4.125000   \n",
       "50%                       5.000000          6.125000          4.812500   \n",
       "75%                       6.352941          7.000000          5.600000   \n",
       "max                      11.833333         13.666667         12.666667   \n",
       "\n",
       "       AverageHGShifted  AverageAGShifted  PercentageMGSHShifted  \\\n",
       "count       5094.000000       5094.000000            5094.000000   \n",
       "mean           1.530240          1.164543               0.776923   \n",
       "std            0.581019          0.497165               0.157526   \n",
       "min            0.000000          0.000000               0.000000   \n",
       "25%            1.142857          0.800000               0.666667   \n",
       "50%            1.428571          1.100000               0.777778   \n",
       "75%            1.800000          1.444444               0.875000   \n",
       "max            5.666667          4.000000               1.333333   \n",
       "\n",
       "       PercentageMGSAShifted  PercentageMGCHShifted  PercentageMGCAShifted  \n",
       "count            5094.000000            5094.000000            5094.000000  \n",
       "mean                0.669986               0.666150               0.781011  \n",
       "std                 0.185494               0.179383               0.162010  \n",
       "min                 0.000000               0.000000               0.000000  \n",
       "25%                 0.555556               0.562500               0.687500  \n",
       "50%                 0.666667               0.666667               0.800000  \n",
       "75%                 0.800000               0.785714               0.888889  \n",
       "max                 1.333333               1.333333               1.333333  "
      ]
     },
     "execution_count": 5,
     "metadata": {},
     "output_type": "execute_result"
    }
   ],
   "source": [
    "# Remove rows with missing values\n",
    "football_data = football_data.dropna(thresh=15) # drop rows with one or more na values\n",
    "\n",
    "# Print the shape of the data - the 6 rows with NA values are dropped\n",
    "print(football_data.shape)\n",
    "# Check again the statistics for the features in the data\n",
    "football_data.describe()"
   ]
  },
  {
   "cell_type": "markdown",
   "metadata": {},
   "source": [
    "### Check for correlations and remove correlated variables\n",
    "After removing the missing values and given the fact that all predictor variables are numeric as next step we can safely check for correlations among the predictors. \n",
    "\n"
   ]
  },
  {
   "cell_type": "code",
   "execution_count": 6,
   "metadata": {},
   "outputs": [
    {
     "name": "stdout",
     "output_type": "stream",
     "text": [
      "Correlation between B365D and B365A:\n",
      "(0.8357088594974189, 0.0)\n",
      "Correlation between PercentageMGSHShifted and AverageHGShifted:\n",
      "(0.7307233001540712, 0.0)\n",
      "Correlation between PercentageMGSAShifted and AverageAGShifted:\n",
      "(0.8004313444256618, 0.0)\n"
     ]
    },
    {
     "data": {
      "image/png": "[encoded data removed]",
      "text/plain": [
       "<Figure size 432x288 with 2 Axes>"
      ]
     },
     "metadata": {},
     "output_type": "display_data"
    }
   ],
   "source": [
    "# Check correlations in the data\n",
    "football_data_predictors = football_data.drop(\"GoalGoal\",axis=1)\n",
    "corr = football_data_predictors.corr()\n",
    "sns.heatmap(corr, \n",
    "            xticklabels=corr.columns.values,\n",
    "            yticklabels=corr.columns.values)\n",
    "\n",
    "plt.rcParams['figure.figsize'] = (10,7)\n",
    "# Print the highest correlations\n",
    "print(\"Correlation between B365D and B365A:\")\n",
    "print(pearsonr(football_data[\"B365D\"],football_data[\"B365A\"]))\n",
    "print(\"Correlation between PercentageMGSHShifted and AverageHGShifted:\")\n",
    "print(pearsonr(football_data[\"PercentageMGSHShifted\"],football_data[\"AverageHGShifted\"]))\n",
    "print(\"Correlation between PercentageMGSAShifted and AverageAGShifted:\")\n",
    "print(pearsonr(football_data[\"PercentageMGSAShifted\"],football_data[\"AverageAGShifted\"]))\n"
   ]
  },
  {
   "cell_type": "markdown",
   "metadata": {},
   "source": [
    "By the plot generated above we see that most of the predictors are uncorrelated but still there are some substantial correlations among some of them. We shall address this issue as these predictors esentially bring the same information about the data. \n",
    "\n",
    "There is high correlation between draw and away win betting odds (B365D and B365A variables) - 0.84. We see from the table with descriptive statistics that home teams are more common to score a goal in the game(they score on average in 78% of the cases vs. 67% for the away teams with average goals equal to 1.53 vs 1.16 for the away teams). This means that on average high away team win odds are not going to be very common and probably this information would be very usefull for the purposes of future modeling. Moreover the away team win odds (B365A) have higher variation than B365D odds. That's is why of these two variables we are going to keep the B365A variable and drop B365D. \n",
    "\n",
    "There is also high correlation between two more pairs of variables - PercentageMGSHShifted and AverageHGShifted (0.73) as well as PercentageMGSAShifted and AverageAGShifted (0.8). \n",
    "\n",
    "However, here I am not going to remove any of these variables, but try a little different approach - based on domain knowledge about the data I am going to feature engineer two features out of the last 4 columns and check the correlations again. I am going to define a new variable PercentageHomeToScore which is going to represent the sum of PercentageMGSHShifted and PercentageMGCAShifted as well as a new variable PercentageAwayToScore - the sum of PercentageMGSAShifted and PercentageMGCHShifted. "
   ]
  },
  {
   "cell_type": "markdown",
   "metadata": {},
   "source": [
    "### Perform feature engineering"
   ]
  },
  {
   "cell_type": "code",
   "execution_count": 7,
   "metadata": {},
   "outputs": [
    {
     "data": {
      "text/html": [
       "<div>\n",
       "<style scoped>\n",
       "    .dataframe tbody tr th:only-of-type {\n",
       "        vertical-align: middle;\n",
       "    }\n",
       "\n",
       "    .dataframe tbody tr th {\n",
       "        vertical-align: top;\n",
       "    }\n",
       "\n",
       "    .dataframe thead th {\n",
       "        text-align: right;\n",
       "    }\n",
       "</style>\n",
       "<table border=\"1\" class=\"dataframe\">\n",
       "  <thead>\n",
       "    <tr style=\"text-align: right;\">\n",
       "      <th></th>\n",
       "      <th>GoalGoal</th>\n",
       "      <th>B365H</th>\n",
       "      <th>B365A</th>\n",
       "      <th>AverageHTSShifted</th>\n",
       "      <th>AverageATSShifted</th>\n",
       "      <th>AverageHomeTeamSavesShifted</th>\n",
       "      <th>AverageAwayTeamSavesShifted</th>\n",
       "      <th>AverageHCShifted</th>\n",
       "      <th>AverageACShifted</th>\n",
       "      <th>AverageHGShifted</th>\n",
       "      <th>AverageAGShifted</th>\n",
       "      <th>PercentageHomeToScore</th>\n",
       "      <th>PercentageAwayToScore</th>\n",
       "    </tr>\n",
       "  </thead>\n",
       "  <tbody>\n",
       "    <tr>\n",
       "      <th>0</th>\n",
       "      <td>0</td>\n",
       "      <td>1.83</td>\n",
       "      <td>5.25</td>\n",
       "      <td>3.666667</td>\n",
       "      <td>1.75</td>\n",
       "      <td>1.666667</td>\n",
       "      <td>3.25</td>\n",
       "      <td>5.333333</td>\n",
       "      <td>5.50</td>\n",
       "      <td>1.666667</td>\n",
       "      <td>0.25</td>\n",
       "      <td>1.75</td>\n",
       "      <td>0.583333</td>\n",
       "    </tr>\n",
       "    <tr>\n",
       "      <th>1</th>\n",
       "      <td>1</td>\n",
       "      <td>1.36</td>\n",
       "      <td>10.00</td>\n",
       "      <td>4.750000</td>\n",
       "      <td>4.25</td>\n",
       "      <td>2.250000</td>\n",
       "      <td>1.75</td>\n",
       "      <td>5.750000</td>\n",
       "      <td>4.75</td>\n",
       "      <td>1.000000</td>\n",
       "      <td>2.00</td>\n",
       "      <td>1.00</td>\n",
       "      <td>1.500000</td>\n",
       "    </tr>\n",
       "    <tr>\n",
       "      <th>2</th>\n",
       "      <td>1</td>\n",
       "      <td>11.00</td>\n",
       "      <td>1.36</td>\n",
       "      <td>3.250000</td>\n",
       "      <td>5.25</td>\n",
       "      <td>2.750000</td>\n",
       "      <td>3.25</td>\n",
       "      <td>6.000000</td>\n",
       "      <td>5.75</td>\n",
       "      <td>0.500000</td>\n",
       "      <td>1.75</td>\n",
       "      <td>0.75</td>\n",
       "      <td>1.250000</td>\n",
       "    </tr>\n",
       "    <tr>\n",
       "      <th>3</th>\n",
       "      <td>0</td>\n",
       "      <td>1.11</td>\n",
       "      <td>26.00</td>\n",
       "      <td>8.250000</td>\n",
       "      <td>3.50</td>\n",
       "      <td>1.000000</td>\n",
       "      <td>5.00</td>\n",
       "      <td>7.000000</td>\n",
       "      <td>4.25</td>\n",
       "      <td>4.500000</td>\n",
       "      <td>1.50</td>\n",
       "      <td>1.75</td>\n",
       "      <td>1.500000</td>\n",
       "    </tr>\n",
       "    <tr>\n",
       "      <th>4</th>\n",
       "      <td>0</td>\n",
       "      <td>2.00</td>\n",
       "      <td>4.20</td>\n",
       "      <td>4.750000</td>\n",
       "      <td>1.75</td>\n",
       "      <td>2.750000</td>\n",
       "      <td>5.00</td>\n",
       "      <td>5.000000</td>\n",
       "      <td>5.50</td>\n",
       "      <td>1.500000</td>\n",
       "      <td>0.00</td>\n",
       "      <td>1.75</td>\n",
       "      <td>0.750000</td>\n",
       "    </tr>\n",
       "  </tbody>\n",
       "</table>\n",
       "</div>"
      ],
      "text/plain": [
       "   GoalGoal  B365H  B365A  AverageHTSShifted  AverageATSShifted  \\\n",
       "0         0   1.83   5.25           3.666667               1.75   \n",
       "1         1   1.36  10.00           4.750000               4.25   \n",
       "2         1  11.00   1.36           3.250000               5.25   \n",
       "3         0   1.11  26.00           8.250000               3.50   \n",
       "4         0   2.00   4.20           4.750000               1.75   \n",
       "\n",
       "   AverageHomeTeamSavesShifted  AverageAwayTeamSavesShifted  AverageHCShifted  \\\n",
       "0                     1.666667                         3.25          5.333333   \n",
       "1                     2.250000                         1.75          5.750000   \n",
       "2                     2.750000                         3.25          6.000000   \n",
       "3                     1.000000                         5.00          7.000000   \n",
       "4                     2.750000                         5.00          5.000000   \n",
       "\n",
       "   AverageACShifted  AverageHGShifted  AverageAGShifted  \\\n",
       "0              5.50          1.666667              0.25   \n",
       "1              4.75          1.000000              2.00   \n",
       "2              5.75          0.500000              1.75   \n",
       "3              4.25          4.500000              1.50   \n",
       "4              5.50          1.500000              0.00   \n",
       "\n",
       "   PercentageHomeToScore  PercentageAwayToScore  \n",
       "0                   1.75               0.583333  \n",
       "1                   1.00               1.500000  \n",
       "2                   0.75               1.250000  \n",
       "3                   1.75               1.500000  \n",
       "4                   1.75               0.750000  "
      ]
     },
     "execution_count": 7,
     "metadata": {},
     "output_type": "execute_result"
    }
   ],
   "source": [
    "# Compile 4 columns in two based on domain knowledge logic - match between strong attack and weak deffence\n",
    "football_data['PercentageHomeToScore'] = football_data['PercentageMGSHShifted'] + football_data['PercentageMGCAShifted']\n",
    "\n",
    "football_data['PercentageAwayToScore'] = football_data['PercentageMGSAShifted'] + football_data['PercentageMGCHShifted']\n",
    "\n",
    "football_data = football_data.drop([\"PercentageMGSHShifted\",\"PercentageMGCAShifted\",\n",
    "                                         \"PercentageMGSAShifted\",\"PercentageMGCHShifted\",\"B365D\"], axis = 1)\n",
    "\n",
    "football_data.head()\n"
   ]
  },
  {
   "cell_type": "markdown",
   "metadata": {},
   "source": [
    "### Check correlations again \n",
    "Now there are no more substansive correlations among variables and we can continue with modeling. "
   ]
  },
  {
   "cell_type": "code",
   "execution_count": 8,
   "metadata": {},
   "outputs": [
    {
     "data": {
      "image/png": "[encoded data removed]",
      "text/plain": [
       "<Figure size 720x504 with 2 Axes>"
      ]
     },
     "metadata": {},
     "output_type": "display_data"
    }
   ],
   "source": [
    "# Check correlations again\n",
    "football_data_predictors = football_data.drop(\"GoalGoal\",axis=1)\n",
    "corr = football_data_predictors.corr()\n",
    "sns.heatmap(corr, \n",
    "            xticklabels=corr.columns.values,\n",
    "            yticklabels=corr.columns.values)\n",
    "\n",
    "plt.rcParams['figure.figsize'] = (10,7)"
   ]
  },
  {
   "cell_type": "markdown",
   "metadata": {},
   "source": [
    "### Divide attributes from labels"
   ]
  },
  {
   "cell_type": "code",
   "execution_count": 9,
   "metadata": {},
   "outputs": [
    {
     "name": "stdout",
     "output_type": "stream",
     "text": [
      "(5094, 12)\n",
      "(5094,)\n"
     ]
    },
    {
     "data": {
      "text/html": [
       "<div>\n",
       "<style scoped>\n",
       "    .dataframe tbody tr th:only-of-type {\n",
       "        vertical-align: middle;\n",
       "    }\n",
       "\n",
       "    .dataframe tbody tr th {\n",
       "        vertical-align: top;\n",
       "    }\n",
       "\n",
       "    .dataframe thead th {\n",
       "        text-align: right;\n",
       "    }\n",
       "</style>\n",
       "<table border=\"1\" class=\"dataframe\">\n",
       "  <thead>\n",
       "    <tr style=\"text-align: right;\">\n",
       "      <th></th>\n",
       "      <th>GoalGoal</th>\n",
       "      <th>B365H</th>\n",
       "      <th>B365A</th>\n",
       "      <th>AverageHTSShifted</th>\n",
       "      <th>AverageATSShifted</th>\n",
       "      <th>AverageHomeTeamSavesShifted</th>\n",
       "      <th>AverageAwayTeamSavesShifted</th>\n",
       "      <th>AverageHCShifted</th>\n",
       "      <th>AverageACShifted</th>\n",
       "      <th>AverageHGShifted</th>\n",
       "      <th>AverageAGShifted</th>\n",
       "      <th>PercentageHomeToScore</th>\n",
       "      <th>PercentageAwayToScore</th>\n",
       "    </tr>\n",
       "  </thead>\n",
       "  <tbody>\n",
       "    <tr>\n",
       "      <th>0</th>\n",
       "      <td>0</td>\n",
       "      <td>1.83</td>\n",
       "      <td>5.25</td>\n",
       "      <td>3.666667</td>\n",
       "      <td>1.75</td>\n",
       "      <td>1.666667</td>\n",
       "      <td>3.25</td>\n",
       "      <td>5.333333</td>\n",
       "      <td>5.50</td>\n",
       "      <td>1.666667</td>\n",
       "      <td>0.25</td>\n",
       "      <td>1.75</td>\n",
       "      <td>0.583333</td>\n",
       "    </tr>\n",
       "    <tr>\n",
       "      <th>1</th>\n",
       "      <td>1</td>\n",
       "      <td>1.36</td>\n",
       "      <td>10.00</td>\n",
       "      <td>4.750000</td>\n",
       "      <td>4.25</td>\n",
       "      <td>2.250000</td>\n",
       "      <td>1.75</td>\n",
       "      <td>5.750000</td>\n",
       "      <td>4.75</td>\n",
       "      <td>1.000000</td>\n",
       "      <td>2.00</td>\n",
       "      <td>1.00</td>\n",
       "      <td>1.500000</td>\n",
       "    </tr>\n",
       "    <tr>\n",
       "      <th>2</th>\n",
       "      <td>1</td>\n",
       "      <td>11.00</td>\n",
       "      <td>1.36</td>\n",
       "      <td>3.250000</td>\n",
       "      <td>5.25</td>\n",
       "      <td>2.750000</td>\n",
       "      <td>3.25</td>\n",
       "      <td>6.000000</td>\n",
       "      <td>5.75</td>\n",
       "      <td>0.500000</td>\n",
       "      <td>1.75</td>\n",
       "      <td>0.75</td>\n",
       "      <td>1.250000</td>\n",
       "    </tr>\n",
       "    <tr>\n",
       "      <th>3</th>\n",
       "      <td>0</td>\n",
       "      <td>1.11</td>\n",
       "      <td>26.00</td>\n",
       "      <td>8.250000</td>\n",
       "      <td>3.50</td>\n",
       "      <td>1.000000</td>\n",
       "      <td>5.00</td>\n",
       "      <td>7.000000</td>\n",
       "      <td>4.25</td>\n",
       "      <td>4.500000</td>\n",
       "      <td>1.50</td>\n",
       "      <td>1.75</td>\n",
       "      <td>1.500000</td>\n",
       "    </tr>\n",
       "    <tr>\n",
       "      <th>4</th>\n",
       "      <td>0</td>\n",
       "      <td>2.00</td>\n",
       "      <td>4.20</td>\n",
       "      <td>4.750000</td>\n",
       "      <td>1.75</td>\n",
       "      <td>2.750000</td>\n",
       "      <td>5.00</td>\n",
       "      <td>5.000000</td>\n",
       "      <td>5.50</td>\n",
       "      <td>1.500000</td>\n",
       "      <td>0.00</td>\n",
       "      <td>1.75</td>\n",
       "      <td>0.750000</td>\n",
       "    </tr>\n",
       "  </tbody>\n",
       "</table>\n",
       "</div>"
      ],
      "text/plain": [
       "   GoalGoal  B365H  B365A  AverageHTSShifted  AverageATSShifted  \\\n",
       "0         0   1.83   5.25           3.666667               1.75   \n",
       "1         1   1.36  10.00           4.750000               4.25   \n",
       "2         1  11.00   1.36           3.250000               5.25   \n",
       "3         0   1.11  26.00           8.250000               3.50   \n",
       "4         0   2.00   4.20           4.750000               1.75   \n",
       "\n",
       "   AverageHomeTeamSavesShifted  AverageAwayTeamSavesShifted  AverageHCShifted  \\\n",
       "0                     1.666667                         3.25          5.333333   \n",
       "1                     2.250000                         1.75          5.750000   \n",
       "2                     2.750000                         3.25          6.000000   \n",
       "3                     1.000000                         5.00          7.000000   \n",
       "4                     2.750000                         5.00          5.000000   \n",
       "\n",
       "   AverageACShifted  AverageHGShifted  AverageAGShifted  \\\n",
       "0              5.50          1.666667              0.25   \n",
       "1              4.75          1.000000              2.00   \n",
       "2              5.75          0.500000              1.75   \n",
       "3              4.25          4.500000              1.50   \n",
       "4              5.50          1.500000              0.00   \n",
       "\n",
       "   PercentageHomeToScore  PercentageAwayToScore  \n",
       "0                   1.75               0.583333  \n",
       "1                   1.00               1.500000  \n",
       "2                   0.75               1.250000  \n",
       "3                   1.75               1.500000  \n",
       "4                   1.75               0.750000  "
      ]
     },
     "execution_count": 9,
     "metadata": {},
     "output_type": "execute_result"
    }
   ],
   "source": [
    "# Divide attributes from labels\n",
    "football_attributes = football_data.drop(\"GoalGoal\", axis = 1)\n",
    "football_labels = football_data['GoalGoal']\n",
    "\n",
    "# Show dimensions and first few observations of the data\n",
    "print(football_attributes.shape)\n",
    "print(football_labels.shape)\n",
    "football_data.head()"
   ]
  },
  {
   "cell_type": "markdown",
   "metadata": {},
   "source": [
    "### Examine target variable distribution"
   ]
  },
  {
   "cell_type": "code",
   "execution_count": 10,
   "metadata": {},
   "outputs": [
    {
     "data": {
      "image/png": "[encoded data removed]",
      "text/plain": [
       "<Figure size 720x504 with 1 Axes>"
      ]
     },
     "metadata": {},
     "output_type": "display_data"
    },
    {
     "name": "stdout",
     "output_type": "stream",
     "text": [
      "Positive cases: 50.06% of all\n"
     ]
    }
   ],
   "source": [
    "# Get the distribution of the target variable which is going to be predicted\n",
    "# There's nothing to do here, just execute the cell and view the plot and print results.\n",
    "# Cells like these are here only for your convenience and to help you understand the task better\n",
    "plt.bar([0, 1], [len(football_labels[football_labels == 0]), len(football_labels[football_labels == 1])])\n",
    "plt.xticks([0, 1])\n",
    "plt.xlabel(\"Class\")\n",
    "plt.ylabel(\"Count\")\n",
    "plt.show()\n",
    "\n",
    "print(\"Positive cases: {:.2f}% of all\".format(football_labels.sum() / len(football_labels) * 100))\n",
    "\n",
    "# No need for stratification and accuracy is a good measure for models performance"
   ]
  },
  {
   "cell_type": "markdown",
   "metadata": {},
   "source": [
    "We see from the graph above that the tow classes of the target variable are perfectly distributed - 50% cases in each class. This means that the accuracy measure is going to work fine for model optimization and selection at later stages of the analysis. Also there will be no need to stratify the train, validation and test sets. "
   ]
  },
  {
   "cell_type": "markdown",
   "metadata": {},
   "source": [
    "### Rescale the data\n",
    "As we saw from the table with descriptive statistics at the beginning the predictor variables are at different scales so on this step I am going to rescale them to have mean = 0 and variance = 1 in order not to bias the modeling results. "
   ]
  },
  {
   "cell_type": "code",
   "execution_count": 11,
   "metadata": {},
   "outputs": [
    {
     "data": {
      "text/html": [
       "<div>\n",
       "<style scoped>\n",
       "    .dataframe tbody tr th:only-of-type {\n",
       "        vertical-align: middle;\n",
       "    }\n",
       "\n",
       "    .dataframe tbody tr th {\n",
       "        vertical-align: top;\n",
       "    }\n",
       "\n",
       "    .dataframe thead th {\n",
       "        text-align: right;\n",
       "    }\n",
       "</style>\n",
       "<table border=\"1\" class=\"dataframe\">\n",
       "  <thead>\n",
       "    <tr style=\"text-align: right;\">\n",
       "      <th></th>\n",
       "      <th>B365H</th>\n",
       "      <th>B365A</th>\n",
       "      <th>AverageHTSShifted</th>\n",
       "      <th>AverageATSShifted</th>\n",
       "      <th>AverageHomeTeamSavesShifted</th>\n",
       "      <th>AverageAwayTeamSavesShifted</th>\n",
       "      <th>AverageHCShifted</th>\n",
       "      <th>AverageACShifted</th>\n",
       "      <th>AverageHGShifted</th>\n",
       "      <th>AverageAGShifted</th>\n",
       "      <th>PercentageHomeToScore</th>\n",
       "      <th>PercentageAwayToScore</th>\n",
       "    </tr>\n",
       "  </thead>\n",
       "  <tbody>\n",
       "    <tr>\n",
       "      <th>0</th>\n",
       "      <td>-0.477328</td>\n",
       "      <td>0.135616</td>\n",
       "      <td>-1.295887</td>\n",
       "      <td>-2.021289</td>\n",
       "      <td>-1.528901</td>\n",
       "      <td>-0.970949</td>\n",
       "      <td>-0.640983</td>\n",
       "      <td>0.528903</td>\n",
       "      <td>0.234828</td>\n",
       "      <td>-1.839697</td>\n",
       "      <td>0.839919</td>\n",
       "      <td>-2.943624</td>\n",
       "    </tr>\n",
       "    <tr>\n",
       "      <th>1</th>\n",
       "      <td>-0.747399</td>\n",
       "      <td>1.402930</td>\n",
       "      <td>-0.802743</td>\n",
       "      <td>-0.500571</td>\n",
       "      <td>-1.127355</td>\n",
       "      <td>-1.790933</td>\n",
       "      <td>-0.346486</td>\n",
       "      <td>-0.130384</td>\n",
       "      <td>-0.912694</td>\n",
       "      <td>1.680606</td>\n",
       "      <td>-2.439885</td>\n",
       "      <td>0.640746</td>\n",
       "    </tr>\n",
       "    <tr>\n",
       "      <th>2</th>\n",
       "      <td>4.791936</td>\n",
       "      <td>-0.902247</td>\n",
       "      <td>-1.485557</td>\n",
       "      <td>0.107717</td>\n",
       "      <td>-0.783173</td>\n",
       "      <td>-0.970949</td>\n",
       "      <td>-0.169787</td>\n",
       "      <td>0.748665</td>\n",
       "      <td>-1.773336</td>\n",
       "      <td>1.177706</td>\n",
       "      <td>-3.533152</td>\n",
       "      <td>-0.336810</td>\n",
       "    </tr>\n",
       "    <tr>\n",
       "      <th>3</th>\n",
       "      <td>-0.891054</td>\n",
       "      <td>5.671776</td>\n",
       "      <td>0.790490</td>\n",
       "      <td>-0.956786</td>\n",
       "      <td>-1.987811</td>\n",
       "      <td>-0.014302</td>\n",
       "      <td>0.537006</td>\n",
       "      <td>-0.569908</td>\n",
       "      <td>5.111799</td>\n",
       "      <td>0.674805</td>\n",
       "      <td>0.839919</td>\n",
       "      <td>0.640746</td>\n",
       "    </tr>\n",
       "    <tr>\n",
       "      <th>4</th>\n",
       "      <td>-0.379642</td>\n",
       "      <td>-0.144527</td>\n",
       "      <td>-0.802743</td>\n",
       "      <td>-2.021289</td>\n",
       "      <td>-0.783173</td>\n",
       "      <td>-0.014302</td>\n",
       "      <td>-0.876581</td>\n",
       "      <td>0.528903</td>\n",
       "      <td>-0.052052</td>\n",
       "      <td>-2.342597</td>\n",
       "      <td>0.839919</td>\n",
       "      <td>-2.291920</td>\n",
       "    </tr>\n",
       "  </tbody>\n",
       "</table>\n",
       "</div>"
      ],
      "text/plain": [
       "      B365H     B365A  AverageHTSShifted  AverageATSShifted  \\\n",
       "0 -0.477328  0.135616          -1.295887          -2.021289   \n",
       "1 -0.747399  1.402930          -0.802743          -0.500571   \n",
       "2  4.791936 -0.902247          -1.485557           0.107717   \n",
       "3 -0.891054  5.671776           0.790490          -0.956786   \n",
       "4 -0.379642 -0.144527          -0.802743          -2.021289   \n",
       "\n",
       "   AverageHomeTeamSavesShifted  AverageAwayTeamSavesShifted  AverageHCShifted  \\\n",
       "0                    -1.528901                    -0.970949         -0.640983   \n",
       "1                    -1.127355                    -1.790933         -0.346486   \n",
       "2                    -0.783173                    -0.970949         -0.169787   \n",
       "3                    -1.987811                    -0.014302          0.537006   \n",
       "4                    -0.783173                    -0.014302         -0.876581   \n",
       "\n",
       "   AverageACShifted  AverageHGShifted  AverageAGShifted  \\\n",
       "0          0.528903          0.234828         -1.839697   \n",
       "1         -0.130384         -0.912694          1.680606   \n",
       "2          0.748665         -1.773336          1.177706   \n",
       "3         -0.569908          5.111799          0.674805   \n",
       "4          0.528903         -0.052052         -2.342597   \n",
       "\n",
       "   PercentageHomeToScore  PercentageAwayToScore  \n",
       "0               0.839919              -2.943624  \n",
       "1              -2.439885               0.640746  \n",
       "2              -3.533152              -0.336810  \n",
       "3               0.839919               0.640746  \n",
       "4               0.839919              -2.291920  "
      ]
     },
     "execution_count": 11,
     "metadata": {},
     "output_type": "execute_result"
    }
   ],
   "source": [
    "# Rescale the data so that each variable has mean = 0 and variance = 1\n",
    "football_attributes_rescaled = pd.DataFrame(preprocessing.scale(football_attributes))\n",
    "# Set column names in order not to lose variable names\n",
    "football_attributes_rescaled.columns = list(football_attributes)\n",
    "\n",
    "# Overwrite bank attributes with rescaled variables\n",
    "football_attributes = football_attributes_rescaled\n",
    "football_attributes.head()\n"
   ]
  },
  {
   "cell_type": "markdown",
   "metadata": {},
   "source": [
    "### Start modeling using different machine learning algorithms and approaches"
   ]
  },
  {
   "cell_type": "markdown",
   "metadata": {},
   "source": [
    "## Split the data in training and test set"
   ]
  },
  {
   "cell_type": "code",
   "execution_count": 12,
   "metadata": {},
   "outputs": [
    {
     "name": "stdout",
     "output_type": "stream",
     "text": [
      "(3565, 12)\n",
      "(1529, 12)\n",
      "(3565,)\n",
      "(1529,)\n"
     ]
    }
   ],
   "source": [
    "# Split the data in training and test set\n",
    "np.random.seed(24680)\n",
    "\n",
    "# Perform train/test split\n",
    "football_attributes_train, football_attributes_test, football_labels_train, football_labels_test = train_test_split(football_attributes,football_labels,\n",
    "                                                                                              train_size = 0.7,\n",
    "                                                                                             test_size = 0.3)\n",
    "\n",
    "# Check the shape of the newly produced train and test data frames \n",
    "print(football_attributes_train.shape)\n",
    "print(football_attributes_test.shape)\n",
    "print(football_labels_train.shape)\n",
    "print(football_labels_test.shape)"
   ]
  },
  {
   "cell_type": "markdown",
   "metadata": {},
   "source": [
    "### Logistic Regression - with no regularization"
   ]
  },
  {
   "cell_type": "code",
   "execution_count": 13,
   "metadata": {},
   "outputs": [
    {
     "name": "stdout",
     "output_type": "stream",
     "text": [
      "Logistic Regression with no regularization accuracy on the train set: 54.67%.\n",
      "Logistic Regression with no regularization accuracy on the test set: 53.56%.\n",
      "Logistic Regression with no regularization f1 score: 0.55.\n"
     ]
    }
   ],
   "source": [
    "np.random.seed(24680)\n",
    "# Train base logistic regression model with no regularization\n",
    "model_log_reg_basic = LogisticRegression(C = 1e6)\n",
    "model_log_reg_basic.fit(football_attributes_train,football_labels_train)\n",
    "\n",
    "model_log_reg_basic_accuracy_train = model_log_reg_basic.score(football_attributes_train, football_labels_train)\n",
    "model_log_reg_basic_accuracy = model_log_reg_basic.score(football_attributes_test, football_labels_test)\n",
    "\n",
    "# Print accuracy score\n",
    "print(\"Logistic Regression with no regularization accuracy on the train set: {:.2f}%.\".format(model_log_reg_basic_accuracy_train*100))\n",
    "print(\"Logistic Regression with no regularization accuracy on the test set: {:.2f}%.\".format(model_log_reg_basic_accuracy*100))\n",
    "\n",
    "# Calculate f1 score on the test set in order to check another performance metric\n",
    "\n",
    "# Make predictions on the test set\n",
    "y_pred_log_reg_basic = model_log_reg_basic.predict(football_attributes_test)\n",
    "\n",
    "# Use the f1 score metric - taking into account precision and recall\n",
    "model_log_reg_basic_score_f1 = f1_score(football_labels_test, y_pred_log_reg_basic, average='binary')\n",
    "\n",
    "print(\"Logistic Regression with no regularization f1 score on the test set: {:.2f}.\".format(model_log_reg_basic_score_f1))\n"
   ]
  },
  {
   "cell_type": "markdown",
   "metadata": {},
   "source": [
    "With the base logistic regression model with no regularization we get performance better than random but still far from the 60% accuracy threshold we are aiming for. \n",
    "\n",
    "The performance on the test set is not very far away from the accuracy on the train set meaning that the algorithm generalizes well, but is either weak or the data is not good enough for better predictions. "
   ]
  },
  {
   "cell_type": "markdown",
   "metadata": {},
   "source": [
    "### Logistic regression with regularization parameter tuning"
   ]
  },
  {
   "cell_type": "code",
   "execution_count": 14,
   "metadata": {},
   "outputs": [
    {
     "data": {
      "text/plain": [
       "LogisticRegression(C=0.1, class_weight=None, dual=False, fit_intercept=True,\n",
       "          intercept_scaling=1, max_iter=10, multi_class='ovr', n_jobs=1,\n",
       "          penalty='l2', random_state=None, solver='liblinear', tol=0.0001,\n",
       "          verbose=0, warm_start=False)"
      ]
     },
     "execution_count": 14,
     "metadata": {},
     "output_type": "execute_result"
    }
   ],
   "source": [
    "np.random.seed(24680)\n",
    "# Tune logistic regression parameters using a grid search\n",
    "tuned_params_log_reg = [{\"C\": [0.001, 0.01, 0.1, 1, 10, 100, 1000], \n",
    "                 \"max_iter\": [1, 10, 50, 100, 300, 1000],\n",
    "                 \"fit_intercept\": [True,False]}]\n",
    "\n",
    "# Perform grid search with cv = 10 since the whole train set is 3536 10% of it is 354 observation\n",
    "# for each validation fold which is enough as it comes to number of observations\n",
    "grid_search_log_reg = GridSearchCV(LogisticRegression(), tuned_params_log_reg, scoring = 'accuracy',cv = 10) \n",
    "\n",
    "grid_search_log_reg.fit(football_attributes_train, football_labels_train)\n",
    "\n",
    "#print(grid_search.best_params_)\n",
    "grid_search_log_reg.best_estimator_"
   ]
  },
  {
   "cell_type": "code",
   "execution_count": 15,
   "metadata": {},
   "outputs": [
    {
     "name": "stdout",
     "output_type": "stream",
     "text": [
      "Logistic Regression with tuned regularization accuracy on train set: 54.64%.\n",
      "Logistic Regression with tuned regularization accuracy on the test set: 53.76%.\n",
      "Logistic Regression with tuned regularization f1 score: 0.56.\n"
     ]
    }
   ],
   "source": [
    "# Use the logistic regression model obtained via grid search to calculate accuracy and f1 score on the test set\n",
    "gridModel_log_reg= grid_search_log_reg.best_estimator_\n",
    "gridModel_log_reg.fit(football_attributes_train, football_labels_train)\n",
    "\n",
    "tuned_model_accuracy_train = gridModel_log_reg.score(football_attributes_train, football_labels_train)\n",
    "print(\"Logistic Regression with tuned regularization accuracy on train set: {:.2f}%.\".format(tuned_model_accuracy_train*100))\n",
    "tuned_model_accuracy = gridModel_log_reg.score(football_attributes_test, football_labels_test)\n",
    "print(\"Logistic Regression with tuned regularization accuracy on the test set: {:.2f}%.\".format(tuned_model_accuracy*100))\n",
    "\n",
    "# Make predictions on the test set\n",
    "y_pred_grid_model_log_reg = gridModel_log_reg.predict(football_attributes_test)\n",
    "\n",
    "tuned_score_f1 = f1_score(football_labels_test, y_pred_grid_model_log_reg, average='binary')\n",
    "print(\"Logistic Regression with tuned regularization f1 score: {:.2f}.\".format(tuned_score_f1))\n"
   ]
  },
  {
   "cell_type": "markdown",
   "metadata": {},
   "source": [
    "With the tuned regularized logistic regression we get marginally better results on the test set meaning that the model generalizes a bit better and we have got rid of some minimal overfitting. "
   ]
  },
  {
   "cell_type": "markdown",
   "metadata": {},
   "source": [
    "### Random forest with parameter tuning"
   ]
  },
  {
   "cell_type": "code",
   "execution_count": 16,
   "metadata": {},
   "outputs": [
    {
     "name": "stdout",
     "output_type": "stream",
     "text": [
      "Random forest; best score: 0.5329593267882188\n"
     ]
    }
   ],
   "source": [
    "# Train more models and compare to the base algorithm (logistic regression) results\n",
    "np.random.seed(24680)\n",
    "\n",
    "# Tune random forest parameters using a grid search - only the max_depth of the trees parameter as well as the n_estimators\n",
    "tuned_params_random_forest = [{\"max_depth\": [10,20,50,75,100,150], \n",
    "                 \"n_estimators\": [10,50,100,200,300,400]}]\n",
    "\n",
    "\n",
    "grid_search_random_forest = GridSearchCV(RandomForestClassifier(), tuned_params_random_forest, scoring = 'accuracy',cv = 10)\n",
    "grid_search_random_forest.fit(football_attributes_train, football_labels_train)\n",
    "\n",
    "forest_classifier = grid_search_random_forest.best_estimator_\n",
    "\n",
    "print(\"Random forest; best score:\", grid_search_random_forest.best_score_)"
   ]
  },
  {
   "cell_type": "code",
   "execution_count": 17,
   "metadata": {},
   "outputs": [
    {
     "data": {
      "text/plain": [
       "RandomForestClassifier(bootstrap=True, class_weight=None, criterion='gini',\n",
       "            max_depth=150, max_features='auto', max_leaf_nodes=None,\n",
       "            min_impurity_decrease=0.0, min_impurity_split=None,\n",
       "            min_samples_leaf=1, min_samples_split=2,\n",
       "            min_weight_fraction_leaf=0.0, n_estimators=400, n_jobs=1,\n",
       "            oob_score=False, random_state=None, verbose=0,\n",
       "            warm_start=False)"
      ]
     },
     "execution_count": 17,
     "metadata": {},
     "output_type": "execute_result"
    }
   ],
   "source": [
    "forest_classifier"
   ]
  },
  {
   "cell_type": "code",
   "execution_count": 22,
   "metadata": {},
   "outputs": [
    {
     "data": {
      "text/plain": [
       "RandomForestClassifier(bootstrap=True, class_weight=None, criterion='gini',\n",
       "            max_depth=150, max_features='auto', max_leaf_nodes=None,\n",
       "            min_impurity_decrease=0.0, min_impurity_split=None,\n",
       "            min_samples_leaf=1, min_samples_split=2,\n",
       "            min_weight_fraction_leaf=0.0, n_estimators=400, n_jobs=1,\n",
       "            oob_score=False, random_state=None, verbose=0,\n",
       "            warm_start=False)"
      ]
     },
     "execution_count": 22,
     "metadata": {},
     "output_type": "execute_result"
    }
   ],
   "source": [
    "# This is the model obtained via the grid search - in order not to be necessary to run the optimization again\n",
    "np.random.seed(24680)\n",
    "forest_classifier = RandomForestClassifier(bootstrap=True, class_weight=None, criterion='gini',\n",
    "            max_depth=150, max_features='auto', max_leaf_nodes=None,\n",
    "            min_impurity_decrease=0.0, min_impurity_split=None,\n",
    "            min_samples_leaf=1, min_samples_split=2,\n",
    "            min_weight_fraction_leaf=0.0, n_estimators=400, n_jobs=1,\n",
    "            oob_score=False, random_state=None, verbose=0,\n",
    "            warm_start=False)\n",
    "forest_classifier.fit(football_attributes_train, football_labels_train)"
   ]
  },
  {
   "cell_type": "code",
   "execution_count": 23,
   "metadata": {},
   "outputs": [
    {
     "name": "stdout",
     "output_type": "stream",
     "text": [
      "Random Forrest Tuned accuracy on the train set: 100.00%.\n",
      "Random Forrest Tuned accuracy on the test set: 50.75%.\n",
      "Random Forrest Tuned f1 score: 0.51.\n"
     ]
    }
   ],
   "source": [
    "# Check random forest classifier performance on the test set\n",
    "random_forest_score_accuracy_train = forest_classifier.score(football_attributes_train, football_labels_train)\n",
    "print(\"Random Forrest Tuned accuracy on the train set: {:.2f}%.\".format(random_forest_score_accuracy_train*100))\n",
    "random_forest_score_accuracy_test = forest_classifier.score(football_attributes_test, football_labels_test)\n",
    "print(\"Random Forrest Tuned accuracy on the test set: {:.2f}%.\".format(random_forest_score_accuracy_test*100))\n",
    "\n",
    "# Calculate f1 score on the test set in order to check another performance metric\n",
    "\n",
    "# Make predictions on the test set\n",
    "y_pred_random_forest = forest_classifier.predict(football_attributes_test)\n",
    "\n",
    "# Use the f1 score metric - taking into account precision and recall\n",
    "random_forest_score_f1 = f1_score(football_labels_test, y_pred_random_forest, average='binary')\n",
    "print(\"Random Forrest Tuned f1 score: {:.2f}.\".format(random_forest_score_f1))\n"
   ]
  },
  {
   "cell_type": "markdown",
   "metadata": {},
   "source": [
    "The Random Forrest model has __overfitted the training data__ giving 100% accuracy on the train set but performing very bad on the test set. It seems more powerfull models don't help in this case as learning very specific info about some data points makes the whole model perform worse on unseen data compared to simpler models."
   ]
  },
  {
   "cell_type": "markdown",
   "metadata": {},
   "source": [
    "### Linear SVM"
   ]
  },
  {
   "cell_type": "code",
   "execution_count": 57,
   "metadata": {},
   "outputs": [
    {
     "name": "stdout",
     "output_type": "stream",
     "text": [
      "Linear SVM; best score: 0.5309957924263674\n"
     ]
    }
   ],
   "source": [
    "# Train linear svm model to compare to the rest models\n",
    "np.random.seed(24680)\n",
    "\n",
    "# Tune gaussian SVM parameters using a grid search\n",
    "tuned_params_linear_svm = [{\"C\": [0.01,0.1,1,5,10,15,20,30]}]\n",
    "\n",
    "grid_search_linear_svm = GridSearchCV(SVC(probability=True), tuned_params_linear_svm, scoring = 'accuracy',cv = 10)\n",
    "grid_search_linear_svm.fit(football_attributes_train, football_labels_train)\n",
    "\n",
    "linear_svm_classifier = grid_search_linear_svm.best_estimator_\n",
    "\n",
    "print(\"Linear SVM; best score:\", grid_search_linear_svm.best_score_)"
   ]
  },
  {
   "cell_type": "code",
   "execution_count": 58,
   "metadata": {},
   "outputs": [
    {
     "data": {
      "text/plain": [
       "SVC(C=0.1, cache_size=200, class_weight=None, coef0=0.0,\n",
       "  decision_function_shape='ovr', degree=3, gamma='auto', kernel='rbf',\n",
       "  max_iter=-1, probability=True, random_state=None, shrinking=True,\n",
       "  tol=0.001, verbose=False)"
      ]
     },
     "execution_count": 58,
     "metadata": {},
     "output_type": "execute_result"
    }
   ],
   "source": [
    "linear_svm_classifier"
   ]
  },
  {
   "cell_type": "code",
   "execution_count": 24,
   "metadata": {},
   "outputs": [
    {
     "name": "stdout",
     "output_type": "stream",
     "text": [
      "Linear SVM Tuned accuracy on train set: 56.24%.\n",
      "Linear SVM Tuned accuracy on test set: 54.15%.\n",
      "Linear SVM Tuned f1 score: 0.57.\n"
     ]
    }
   ],
   "source": [
    "# Check linear svm classifier performance on the test set\n",
    "# These are the results of the grid search procedure\n",
    "linear_svm_classifier = SVC(C=0.1, cache_size=200, class_weight=None, coef0=0.0,\n",
    "  decision_function_shape='ovr', degree=3, gamma='auto', kernel='rbf',\n",
    "  max_iter=-1, probability=True, random_state=None, shrinking=True,\n",
    "  tol=0.001, verbose=False)\n",
    "\n",
    "linear_svm_classifier.fit(football_attributes_train, football_labels_train)\n",
    "\n",
    "linear_svm_score_accuracy_train = linear_svm_classifier.score(football_attributes_train, football_labels_train)\n",
    "print(\"Linear SVM Tuned accuracy on train set: {:.2f}%.\".format(linear_svm_score_accuracy_train*100))\n",
    "\n",
    "linear_svm_score_accuracy = linear_svm_classifier.score(football_attributes_test, football_labels_test)\n",
    "print(\"Linear SVM Tuned accuracy on test set: {:.2f}%.\".format(linear_svm_score_accuracy*100))\n",
    "\n",
    "# Calculate f1 score on the test set in order to check another performance metric\n",
    "\n",
    "# Make predictions on the test set\n",
    "y_pred_linear_svm = linear_svm_classifier.predict(football_attributes_test)\n",
    "\n",
    "# Use the f1 score metric - taking into account precision and recall\n",
    "linear_svm_score_f1 = f1_score(football_labels_test, y_pred_linear_svm, average='binary')\n",
    "print(\"Linear SVM Tuned f1 score: {:.2f}.\".format(linear_svm_score_f1))"
   ]
  },
  {
   "cell_type": "markdown",
   "metadata": {},
   "source": [
    "The linear SVM model performs a little better than the tuned logistic regression model on the test set. The difference between the accuracy on the train and test set is not very big meaning the model has not overfitted the data."
   ]
  },
  {
   "cell_type": "markdown",
   "metadata": {},
   "source": [
    "### Gaussian SVM"
   ]
  },
  {
   "cell_type": "code",
   "execution_count": 46,
   "metadata": {},
   "outputs": [
    {
     "name": "stdout",
     "output_type": "stream",
     "text": [
      "Gaussian SVM; best score: 0.5340813464235624\n"
     ]
    }
   ],
   "source": [
    "# Train gaussian svm model to compare to the rest models\n",
    "np.random.seed(24680)\n",
    "\n",
    "# Tune gaussian SVM parameters using a grid search\n",
    "tuned_params_gaussian_svm = [{\"C\": [1,5,10,15,20,30,40,50],\n",
    "                \"gamma\": [0.001,0.01,0.1,0.2,0.3]}]\n",
    "\n",
    "grid_search_gaussian_svm = GridSearchCV(SVC(probability=True), tuned_params_gaussian_svm, scoring = 'accuracy',cv = 10)\n",
    "grid_search_gaussian_svm.fit(football_attributes_train, football_labels_train)\n",
    "\n",
    "gaussian_svm_classifier = grid_search_gaussian_svm.best_estimator_\n",
    "\n",
    "print(\"Gaussian SVM; best score:\", grid_search_gaussian_svm.best_score_)"
   ]
  },
  {
   "cell_type": "code",
   "execution_count": 47,
   "metadata": {},
   "outputs": [
    {
     "data": {
      "text/plain": [
       "SVC(C=5, cache_size=200, class_weight=None, coef0=0.0,\n",
       "  decision_function_shape='ovr', degree=3, gamma=0.01, kernel='rbf',\n",
       "  max_iter=-1, probability=True, random_state=None, shrinking=True,\n",
       "  tol=0.001, verbose=False)"
      ]
     },
     "execution_count": 47,
     "metadata": {},
     "output_type": "execute_result"
    }
   ],
   "source": [
    "gaussian_svm_classifier"
   ]
  },
  {
   "cell_type": "code",
   "execution_count": 25,
   "metadata": {},
   "outputs": [
    {
     "name": "stdout",
     "output_type": "stream",
     "text": [
      "Gaussian SVM Tuned accuracy on the train set: 55.90%.\n",
      "Gaussian SVM Tuned accuracy on the test set: 53.63%.\n",
      "Gaussian SVM Tuned f1 score: 0.57.\n"
     ]
    }
   ],
   "source": [
    "# Check gaussian svm classifier performance on the test set\n",
    "# These are the results of the grid search procedure\n",
    "gaussian_svm_classifier = SVC(C=5, cache_size=200, class_weight=None, coef0=0.0,\n",
    "  decision_function_shape='ovr', degree=3, gamma=0.01, kernel='rbf',\n",
    "  max_iter=-1, probability=True, random_state=None, shrinking=True,\n",
    "  tol=0.001, verbose=False)\n",
    "\n",
    "gaussian_svm_classifier.fit(football_attributes_train, football_labels_train)\n",
    "\n",
    "gaussian_svm_score_accuracy_train = gaussian_svm_classifier.score(football_attributes_train, football_labels_train)\n",
    "print(\"Gaussian SVM Tuned accuracy on the train set: {:.2f}%.\".format(gaussian_svm_score_accuracy_train*100))\n",
    "\n",
    "gaussian_svm_score_accuracy = gaussian_svm_classifier.score(football_attributes_test, football_labels_test)\n",
    "print(\"Gaussian SVM Tuned accuracy on the test set: {:.2f}%.\".format(gaussian_svm_score_accuracy*100))\n",
    "\n",
    "# Calculate f1 score on the test set in order to check another performance metric\n",
    "\n",
    "# Make predictions on the test set\n",
    "y_pred_gaussian_svm = gaussian_svm_classifier.predict(football_attributes_test)\n",
    "\n",
    "# Use the f1 score metric - taking into account precision and recall\n",
    "gaussian_svm_score_f1 = f1_score(football_labels_test, y_pred_gaussian_svm, average='binary')\n",
    "print(\"Gaussian SVM Tuned f1 score: {:.2f}.\".format(gaussian_svm_score_f1))\n"
   ]
  },
  {
   "cell_type": "markdown",
   "metadata": {},
   "source": [
    "The Gaussian SVM model performs slightly worse as it comes to accuracy compared to the regularized logistic regression and slightly better as it comes to f1 score.\n",
    "\n",
    "This means that there are some parts of the probability distribution of the score in which the Gaussian SVM model performs better but the overall performance as it comes to accuracy is not better. \n",
    "\n",
    "As it comes to generalization the gaussian SVM does a good job as well as the logistic regression models and the linear SVM model."
   ]
  },
  {
   "cell_type": "markdown",
   "metadata": {},
   "source": [
    "### Perform PCA analysis and model on the principal components\n",
    "\n",
    "All models tried up to this point give similar results. So in this case we shall choose the simplest one giving the best results - regularized logistic regression. \n",
    "\n",
    "It seems this is the limit of the data and more powerful algorithms won't be able to produce better results. \n",
    "\n",
    "However, we may try one more option - reduce the dimensionallity of the data a bit with PCA in and see if this feature engineering would yield better results. \n",
    "\n"
   ]
  },
  {
   "cell_type": "code",
   "execution_count": 26,
   "metadata": {},
   "outputs": [
    {
     "name": "stdout",
     "output_type": "stream",
     "text": [
      "First 5 PCs total variance explained: 78.59%.\n",
      "[0.29730906 0.20928312 0.13627877 0.07488586 0.06818471]\n",
      "(5094, 5)\n"
     ]
    },
    {
     "data": {
      "text/html": [
       "<div>\n",
       "<style scoped>\n",
       "    .dataframe tbody tr th:only-of-type {\n",
       "        vertical-align: middle;\n",
       "    }\n",
       "\n",
       "    .dataframe tbody tr th {\n",
       "        vertical-align: top;\n",
       "    }\n",
       "\n",
       "    .dataframe thead th {\n",
       "        text-align: right;\n",
       "    }\n",
       "</style>\n",
       "<table border=\"1\" class=\"dataframe\">\n",
       "  <thead>\n",
       "    <tr style=\"text-align: right;\">\n",
       "      <th></th>\n",
       "      <th>PC1</th>\n",
       "      <th>PC2</th>\n",
       "      <th>PC3</th>\n",
       "      <th>PC4</th>\n",
       "      <th>PC5</th>\n",
       "    </tr>\n",
       "  </thead>\n",
       "  <tbody>\n",
       "    <tr>\n",
       "      <th>0</th>\n",
       "      <td>-1.947260</td>\n",
       "      <td>-3.096358</td>\n",
       "      <td>-1.180024</td>\n",
       "      <td>1.226592</td>\n",
       "      <td>-2.216704</td>\n",
       "    </tr>\n",
       "    <tr>\n",
       "      <th>1</th>\n",
       "      <td>1.158216</td>\n",
       "      <td>-1.419123</td>\n",
       "      <td>-2.082197</td>\n",
       "      <td>0.252200</td>\n",
       "      <td>1.385478</td>\n",
       "    </tr>\n",
       "    <tr>\n",
       "      <th>2</th>\n",
       "      <td>4.982393</td>\n",
       "      <td>-1.348844</td>\n",
       "      <td>-1.466752</td>\n",
       "      <td>2.518018</td>\n",
       "      <td>0.942409</td>\n",
       "    </tr>\n",
       "    <tr>\n",
       "      <th>3</th>\n",
       "      <td>-5.107531</td>\n",
       "      <td>1.715663</td>\n",
       "      <td>-3.650723</td>\n",
       "      <td>-2.049632</td>\n",
       "      <td>-0.364357</td>\n",
       "    </tr>\n",
       "    <tr>\n",
       "      <th>4</th>\n",
       "      <td>-1.794771</td>\n",
       "      <td>-2.706969</td>\n",
       "      <td>0.167773</td>\n",
       "      <td>1.016348</td>\n",
       "      <td>-2.030657</td>\n",
       "    </tr>\n",
       "  </tbody>\n",
       "</table>\n",
       "</div>"
      ],
      "text/plain": [
       "        PC1       PC2       PC3       PC4       PC5\n",
       "0 -1.947260 -3.096358 -1.180024  1.226592 -2.216704\n",
       "1  1.158216 -1.419123 -2.082197  0.252200  1.385478\n",
       "2  4.982393 -1.348844 -1.466752  2.518018  0.942409\n",
       "3 -5.107531  1.715663 -3.650723 -2.049632 -0.364357\n",
       "4 -1.794771 -2.706969  0.167773  1.016348 -2.030657"
      ]
     },
     "execution_count": 26,
     "metadata": {},
     "output_type": "execute_result"
    }
   ],
   "source": [
    "# Perform pca analysis in order to extract only the most valuable information\n",
    "# Get the principal components explaining ar least 75% of the variance in the data - in this case 5\n",
    "pca = PCA(n_components=5)\n",
    "pca.fit(football_attributes)\n",
    "\n",
    "print(\"First 5 PCs total variance explained: {:.2f}%.\".format(sum(pca.explained_variance_ratio_)*100))\n",
    "\n",
    "print(pca.explained_variance_ratio_)\n",
    "\n",
    "comp = pd.DataFrame(pca.transform(football_attributes))\n",
    "\n",
    "# Set colnames to PC1, PC2, PC3, PC4 and PC5\n",
    "comp.columns = ['PC1','PC2','PC3','PC4','PC5']\n",
    "\n",
    "print(comp.shape)\n",
    "comp.head()\n"
   ]
  },
  {
   "cell_type": "code",
   "execution_count": 27,
   "metadata": {},
   "outputs": [
    {
     "name": "stdout",
     "output_type": "stream",
     "text": [
      "(3565, 5)\n",
      "(1529, 5)\n",
      "(3565,)\n",
      "(1529,)\n"
     ]
    }
   ],
   "source": [
    "# Split the data in training and test set\n",
    "np.random.seed(24680)\n",
    "\n",
    "# Perform train/test split\n",
    "football_attributes_train_pca, football_attributes_test_pca, football_labels_train_pca, football_labels_test_pca = train_test_split(comp,football_labels,\n",
    "                                                                                               train_size = 0.7,\n",
    "                                                                                               test_size = 0.3)\n",
    "\n",
    "# Check the shape of the newly produced train and test data frames \n",
    "print(football_attributes_train_pca.shape)\n",
    "print(football_attributes_test_pca.shape)\n",
    "print(football_labels_train_pca.shape)\n",
    "print(football_labels_test_pca.shape)"
   ]
  },
  {
   "cell_type": "markdown",
   "metadata": {},
   "source": [
    "### Perform Logistic Regression on the first 5 principal components"
   ]
  },
  {
   "cell_type": "code",
   "execution_count": 28,
   "metadata": {},
   "outputs": [
    {
     "data": {
      "text/plain": [
       "LogisticRegression(C=0.0001, class_weight=None, dual=False,\n",
       "          fit_intercept=True, intercept_scaling=1, max_iter=1,\n",
       "          multi_class='ovr', n_jobs=1, penalty='l2', random_state=None,\n",
       "          solver='liblinear', tol=0.0001, verbose=0, warm_start=False)"
      ]
     },
     "execution_count": 28,
     "metadata": {},
     "output_type": "execute_result"
    }
   ],
   "source": [
    "# Tune the logistic regression model fit over the proncipal components\n",
    "np.random.seed(24680)\n",
    "# Tune logistic regression parameters using a grid search\n",
    "tuned_params_log_reg_pca = [{\"C\": [0.0001,0.001, 0.01, 0.1, 1, 10, 100, 1000], \n",
    "                 \"max_iter\": [0.1,1,10,50, 100,300,1000],\n",
    "                 \"fit_intercept\": [True,False]}]\n",
    "\n",
    "grid_search_log_reg_pca = GridSearchCV(LogisticRegression(), tuned_params_log_reg_pca,scoring = 'accuracy',cv = 10) \n",
    "\n",
    "grid_search_log_reg_pca.fit(football_attributes_train_pca, football_labels_train_pca)\n",
    "\n",
    "#print(grid_search.best_params_)\n",
    "grid_search_log_reg_pca.best_estimator_"
   ]
  },
  {
   "cell_type": "code",
   "execution_count": 30,
   "metadata": {},
   "outputs": [
    {
     "name": "stdout",
     "output_type": "stream",
     "text": [
      "Logistic Regression on PCA accuracy on train set: 52.40%.\n",
      "Logistic Regression on PCA accuracy on test set: 54.28%.\n",
      "Logistic Regression on PCA f1 score: 0.55.\n"
     ]
    }
   ],
   "source": [
    "# Use the logistic regression model obtained via grid search to calculate accuracy and f1 score on the test set\n",
    "gridModelLogRegPCA = grid_search_log_reg_pca.best_estimator_\n",
    "gridModelLogRegPCA.fit(football_attributes_train_pca, football_labels_train_pca)\n",
    "\n",
    "gridModelLogRegPCA_accuracy_train = gridModelLogRegPCA.score(football_attributes_train_pca, football_labels_train_pca)\n",
    "print(\"Logistic Regression on PCA accuracy on train set: {:.2f}%.\".format(gridModelLogRegPCA_accuracy_train*100))\n",
    "\n",
    "gridModelLogRegPCA_accuracy = gridModelLogRegPCA.score(football_attributes_test_pca, football_labels_test_pca)\n",
    "print(\"Logistic Regression on PCA accuracy on test set: {:.2f}%.\".format(gridModelLogRegPCA_accuracy*100))\n",
    "\n",
    "# Make predictions on the test set\n",
    "y_pred_gridModelLogRegPCA_model = gridModelLogRegPCA.predict(football_attributes_test_pca)\n",
    "\n",
    "gridModelLogRegPCA_score_f1 = f1_score(football_labels_test_pca, y_pred_gridModelLogRegPCA_model, average='binary')\n",
    "print(\"Logistic Regression on PCA f1 score: {:.2f}.\".format(gridModelLogRegPCA_score_f1))\n"
   ]
  },
  {
   "cell_type": "markdown",
   "metadata": {},
   "source": [
    "The Logistic Regression model over the principal components gives the best results as it comes to accuracy. However, the results are just marginally better. Moreover, the f1 score is lower compared to the results obtained over the scaled data itself. \n",
    "\n",
    "The results on the test set are a little better compared to the results on the train set which is also not good indication and may mean that there is some random component in the performance of the model on the test set."
   ]
  },
  {
   "cell_type": "markdown",
   "metadata": {},
   "source": [
    "### Visual Comparison of the results"
   ]
  },
  {
   "cell_type": "code",
   "execution_count": 34,
   "metadata": {},
   "outputs": [
    {
     "data": {
      "text/plain": [
       "Text(0.5,1,'Models accuracy on the test set')"
      ]
     },
     "execution_count": 34,
     "metadata": {},
     "output_type": "execute_result"
    },
    {
     "data": {
      "image/png": "[encoded data removed]",
      "text/plain": [
       "<Figure size 1800x720 with 1 Axes>"
      ]
     },
     "metadata": {},
     "output_type": "display_data"
    }
   ],
   "source": [
    "# Compare accuracy per model visually using matplotlib\n",
    "\n",
    "objects = ('Log Reg No Regularization', 'Log Reg With Regularization', 'Log Reg PCA', \n",
    "           'Random Forest', 'Linear SVM', 'Gaussian SVM')\n",
    "y_pos = np.arange(len(objects))\n",
    "performance = [model_log_reg_basic_accuracy, tuned_model_accuracy, gridModelLogRegPCA_accuracy,\n",
    "               random_forest_score_accuracy_test, linear_svm_score_accuracy, gaussian_svm_score_accuracy]\n",
    " \n",
    "plt.rcParams['figure.figsize'] = (25,10)\n",
    "plt.bar(y_pos, performance, align='center', alpha=0.5)\n",
    "plt.xticks(y_pos, objects,fontsize=15)\n",
    "plt.ylabel('Accuracy', fontsize = 25)\n",
    "plt.title('Models accuracy on the test set', fontsize = 35)\n",
    "\n"
   ]
  },
  {
   "cell_type": "markdown",
   "metadata": {},
   "source": [
    "### Conclusions and model choice"
   ]
  },
  {
   "cell_type": "markdown",
   "metadata": {},
   "source": [
    "All the machine learning models used for forecasting Goal/Goal match outcome for the English Premier League give similar results on the data collected. \n",
    "\n",
    "The models give better than random performance, but still cannot come close to the intrinsic error we should expect from such data - namely an error allowing for around 60% accuracy. \n",
    "\n",
    "This means that the data collected is not good enough for predictive purposes and that there are factors affecting the target column not included in the initial dataset. Even more extensive data gathering process shall be perfomed in order to make these results better and to improve the accuracy of the model. \n",
    "\n",
    "As it comes to the data and the models presented in the project - __the best choice is the Logistic Regression with regularization parameter C = 0.1__ for forecasting. This is the simplest model as it comes to data preprocessing (compared to Log Reg with PCA for ex.) and still gives competitive results compared to more sophisticated models.  "
   ]
  }
 ],
 "metadata": {
  "kernelspec": {
   "display_name": "Python 3",
   "language": "python",
   "name": "python3"
  },
  "language_info": {
   "codemirror_mode": {
    "name": "ipython",
    "version": 3
   },
   "file_extension": ".py",
   "mimetype": "text/x-python",
   "name": "python",
   "nbconvert_exporter": "python",
   "pygments_lexer": "ipython3",
   "version": "3.6.5"
  }
 },
 "nbformat": 4,
 "nbformat_minor": 2
}
